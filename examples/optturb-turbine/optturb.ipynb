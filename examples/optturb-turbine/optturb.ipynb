{
 "cells": [
  {
   "cell_type": "markdown",
   "metadata": {},
   "source": [
    "# OptTurb \n",
    "Is based on a optimization campaign to design a turbine for Purdue AeroThermal Experimental Lab. It is based on a 1D meanline code; however, the full radial equilibrium equations are solved. \n",
    "\n",
    "The lab consists of storage of high pressure air at 138 bar paired to a heater allowing temperatures to reach 1090K. This is the exhausted to either athmosphere or a vacuum tank. \n",
    "![zucrow labs](/images/zucrow.png)\n",
    "\n",
    "A meanline code was used to design an optimal velocity triangle for a turbine given the range of operating conditions of the facility.\n",
    "\n",
    "![Design Spreadsheet](optturb-fixed_pressure_loss2.xlsm)\n"
   ]
  },
  {
   "cell_type": "code",
   "execution_count": null,
   "metadata": {},
   "outputs": [],
   "source": [
    "# Installing the package\n",
    "!pip install turbo-design"
   ]
  },
  {
   "cell_type": "code",
   "execution_count": null,
   "metadata": {},
   "outputs": [],
   "source": [
    "import sys\n",
    "from turbodesign import TurbineSpool, Inlet, RowType, BladeRow, Passage, Outlet, PassageType\n",
    "from turbodesign.enums import MassflowConstraint\n",
    "from turbodesign.coolant import Coolant\n",
    "import numpy as np \n",
    "from cantera import Solution"
   ]
  },
  {
   "cell_type": "code",
   "execution_count": null,
   "metadata": {},
   "outputs": [],
   "source": [
    "#%% Define the Passage \n",
    "# Geometry from OptTurb\n",
    "rmean = 0.389 # meters\n",
    "H1 = 0.04 # meters\n",
    "H2 = 1.159*H1\n",
    "H3 = 1.317*H2\n",
    "cax = (H1+H2+H3)/3\n",
    "\n",
    "# Inlet, Stator Inlet, Stator Exit, Rotor Exit\n",
    "rhub = [rmean-H1/2,rmean-H1/2,rmean-H2/2,rmean-H3/2]\n",
    "rshroud = [rmean+H1/2,rmean+H1/2,rmean+H2/2,rmean+H3/2]\n",
    "xhub = np.array([-cax, 0.0, cax, 2*cax])\n",
    "xshroud = np.array([-cax, 0.0, cax, 2*cax])\n",
    "axial_len = xhub[-1]-xhub[0]\n",
    "\n",
    "passage = Passage(xhub,rhub,\n",
    "                 xshroud,rshroud,\n",
    "                 passageType=PassageType.Axial)\n",
    "\n",
    "#%% Design Conditions \n",
    "Design_RPM = 7500\n",
    "P0 = 500000     # Pascal \n",
    "T0 = 676.3      # Kelvin\n",
    "\n",
    "# Fluid \n",
    "fluid = Solution('air.yaml')\n",
    "fluid.TP = T0, P0 # Use pascal for cantera\n",
    "print(f\"Coefficient of Pressure [J/Kg] {fluid.cp:0.4f}\")\n",
    "\n",
    "#%% Defining the Inlet\n",
    "inlet = Inlet(M=0.2, \n",
    "                 P0=[P0], \n",
    "                 T0=[T0], \n",
    "                 beta=[0], \n",
    "                 fluid=fluid, \n",
    "                 percent_radii=0.5, \n",
    "                 axial_location=0)\n",
    "outlet = Outlet(P=P0/3.96,percent_radii=0.5,num_streamlines=3)\n",
    "\n",
    "stator1 = BladeRow(row_type=RowType.Stator,axial_location=2*cax/axial_len)\n",
    "rotor1 = BladeRow(row_type=RowType.Rotor,axial_location=3*cax/axial_len)\n",
    "\n",
    "stator1.axial_chord = cax # Set an axial chord. Used for plotting\n",
    "rotor1.axial_chord = cax\n",
    "\n",
    "# Coolant Definition: Use Kelvin and Pascal\n",
    "stator1.coolant = Coolant(fluid, T0=616*0.555556, P0= 50.6 * 6894.76, massflow_percentage=0) \n",
    "rotor1.coolant = Coolant(fluid, 622*0.555556, 50.3 * 6894.76,massflow_percentage=0)\n",
    "\n",
    "# Add in turning angles\n",
    "stator1.beta2_metal = [73,73,73] # Angle, hub,mean,tip\n",
    "rotor1.beta2_metal = [-67.6,-67.6,-67.6] # Angle, hub,mean,tip\n",
    "\n",
    "# Coolant: Use Kelvin and Pascal\n",
    "massflow = 35.9 # kg/s, guessed value"
   ]
  },
  {
   "cell_type": "markdown",
   "metadata": {},
   "source": [
    "Turbine example contains many different loss models. Two types of models currently supported are enthalpy based and pressure loss based. Users can write their own loss models, see source code for more information. "
   ]
  },
  {
   "cell_type": "code",
   "execution_count": null,
   "metadata": {},
   "outputs": [],
   "source": [
    "from turbodesign.loss.turbine import CraigCox, AinleyMathieson, FixedEfficiency, KrackerOkapuu, Traupel, TD2, FixedPressureLoss\n",
    "\n",
    "stator1.loss_model = CraigCox()\n",
    "rotor1.loss_model = CraigCox()"
   ]
  },
  {
   "cell_type": "code",
   "execution_count": null,
   "metadata": {},
   "outputs": [],
   "source": [
    "# Define the spool\n",
    "spool = TurbineSpool(passage=passage,\n",
    "            rpm=Design_RPM, \n",
    "            num_streamlines=3, \n",
    "            massflow=massflow, \n",
    "            rows=[inlet,stator1,rotor1,outlet])\n",
    "spool.fluid = fluid\n",
    "spool.massflow_constraint = MassflowConstraint.BalanceMassFlow # Fixes the exit angle and changes degree of reaction\n"
   ]
  },
  {
   "cell_type": "code",
   "execution_count": null,
   "metadata": {},
   "outputs": [],
   "source": [
    "# spool.plot_geometry()\n",
    "spool.solve() # This also initializes streamlines\n",
    "spool.export_properties(\"optturb.json\")\n",
    "spool.plot()\n",
    "spool.plot_velocity_triangles()\n"
   ]
  }
 ],
 "metadata": {
  "language_info": {
   "name": "python"
  }
 },
 "nbformat": 4,
 "nbformat_minor": 2
}
