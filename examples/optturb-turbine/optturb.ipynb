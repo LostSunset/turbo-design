{
  "cells": [
    {
      "cell_type": "markdown",
      "metadata": {
        "id": "iM-PVQj_x9PM"
      },
      "source": [
        "# OptTurb\n",
        "Is based on a optimization campaign to design a turbine for Purdue AeroThermal Experimental Lab. It is based on a 1D meanline code; however, the full radial equilibrium equations are solved.\n",
        "\n",
        "The lab consists of storage of high pressure air at 138 bar paired to a heater allowing temperatures to reach 1090K. This is the exhausted to either athmosphere or a vacuum tank.\n",
        "![zucrow labs](https://github.com/nasa/turbo-design/blob/main/examples/optturb-turbine/images/zucrow.png?raw=true)\n",
        "\n",
        "A meanline code was used to design an optimal velocity triangle for a turbine given the range of operating conditions of the facility.\n",
        "\n",
        "[Design Spreadsheet](https://github.com/nasa/turbo-design/blob/main/examples/optturb-turbine/optturb-fixed_pressure_loss2.xlsm)\n"
      ]
    },
    {
      "cell_type": "code",
      "execution_count": 1,
      "metadata": {
        "id": "7eFdi6H6x9PN",
        "outputId": "fb708216-cea5-46fd-93a6-3f19deb57662",
        "colab": {
          "base_uri": "https://localhost:8080/"
        }
      },
      "outputs": [
        {
          "output_type": "stream",
          "name": "stdout",
          "text": [
            "Collecting turbo-design\n",
            "  Downloading turbo_design-1.0.8-py3-none-any.whl.metadata (683 bytes)\n",
            "Collecting cantera (from turbo-design)\n",
            "  Downloading Cantera-3.0.1-cp310-cp310-manylinux_2_17_x86_64.manylinux2014_x86_64.whl.metadata (7.8 kB)\n",
            "Collecting findiff (from turbo-design)\n",
            "  Downloading findiff-0.10.0-py3-none-any.whl.metadata (2.1 kB)\n",
            "Requirement already satisfied: matplotlib in /usr/local/lib/python3.10/dist-packages (from turbo-design) (3.7.1)\n",
            "Requirement already satisfied: numpy in /usr/local/lib/python3.10/dist-packages (from turbo-design) (1.26.4)\n",
            "Requirement already satisfied: pandas in /usr/local/lib/python3.10/dist-packages (from turbo-design) (2.1.4)\n",
            "Collecting plot3d (from turbo-design)\n",
            "  Downloading plot3d-1.6.7-py3-none-any.whl.metadata (660 bytes)\n",
            "Collecting pyturbo-aero (from turbo-design)\n",
            "  Downloading pyturbo_aero-1.1.0-py3-none-any.whl.metadata (754 bytes)\n",
            "Requirement already satisfied: scipy in /usr/local/lib/python3.10/dist-packages (from turbo-design) (1.13.1)\n",
            "Collecting ruamel.yaml>=0.15.34 (from cantera->turbo-design)\n",
            "  Downloading ruamel.yaml-0.18.6-py3-none-any.whl.metadata (23 kB)\n",
            "Requirement already satisfied: sympy in /usr/local/lib/python3.10/dist-packages (from findiff->turbo-design) (1.13.2)\n",
            "Requirement already satisfied: contourpy>=1.0.1 in /usr/local/lib/python3.10/dist-packages (from matplotlib->turbo-design) (1.3.0)\n",
            "Requirement already satisfied: cycler>=0.10 in /usr/local/lib/python3.10/dist-packages (from matplotlib->turbo-design) (0.12.1)\n",
            "Requirement already satisfied: fonttools>=4.22.0 in /usr/local/lib/python3.10/dist-packages (from matplotlib->turbo-design) (4.53.1)\n",
            "Requirement already satisfied: kiwisolver>=1.0.1 in /usr/local/lib/python3.10/dist-packages (from matplotlib->turbo-design) (1.4.7)\n",
            "Requirement already satisfied: packaging>=20.0 in /usr/local/lib/python3.10/dist-packages (from matplotlib->turbo-design) (24.1)\n",
            "Requirement already satisfied: pillow>=6.2.0 in /usr/local/lib/python3.10/dist-packages (from matplotlib->turbo-design) (9.4.0)\n",
            "Requirement already satisfied: pyparsing>=2.3.1 in /usr/local/lib/python3.10/dist-packages (from matplotlib->turbo-design) (3.1.4)\n",
            "Requirement already satisfied: python-dateutil>=2.7 in /usr/local/lib/python3.10/dist-packages (from matplotlib->turbo-design) (2.8.2)\n",
            "Requirement already satisfied: pytz>=2020.1 in /usr/local/lib/python3.10/dist-packages (from pandas->turbo-design) (2024.2)\n",
            "Requirement already satisfied: tzdata>=2022.1 in /usr/local/lib/python3.10/dist-packages (from pandas->turbo-design) (2024.1)\n",
            "Requirement already satisfied: networkx in /usr/local/lib/python3.10/dist-packages (from plot3d->turbo-design) (3.3)\n",
            "Requirement already satisfied: tqdm in /usr/local/lib/python3.10/dist-packages (from plot3d->turbo-design) (4.66.5)\n",
            "Collecting numpy-stl (from pyturbo-aero->turbo-design)\n",
            "  Downloading numpy_stl-3.1.2-py3-none-any.whl.metadata (16 kB)\n",
            "Requirement already satisfied: plotly in /usr/local/lib/python3.10/dist-packages (from pyturbo-aero->turbo-design) (5.15.0)\n",
            "Requirement already satisfied: six>=1.5 in /usr/local/lib/python3.10/dist-packages (from python-dateutil>=2.7->matplotlib->turbo-design) (1.16.0)\n",
            "Collecting ruamel.yaml.clib>=0.2.7 (from ruamel.yaml>=0.15.34->cantera->turbo-design)\n",
            "  Downloading ruamel.yaml.clib-0.2.8-cp310-cp310-manylinux_2_17_x86_64.manylinux2014_x86_64.manylinux_2_24_x86_64.whl.metadata (2.2 kB)\n",
            "Requirement already satisfied: python-utils>=3.4.5 in /usr/local/lib/python3.10/dist-packages (from numpy-stl->pyturbo-aero->turbo-design) (3.8.2)\n",
            "Requirement already satisfied: tenacity>=6.2.0 in /usr/local/lib/python3.10/dist-packages (from plotly->pyturbo-aero->turbo-design) (9.0.0)\n",
            "Requirement already satisfied: mpmath<1.4,>=1.1.0 in /usr/local/lib/python3.10/dist-packages (from sympy->findiff->turbo-design) (1.3.0)\n",
            "Requirement already satisfied: typing-extensions>3.10.0.2 in /usr/local/lib/python3.10/dist-packages (from python-utils>=3.4.5->numpy-stl->pyturbo-aero->turbo-design) (4.12.2)\n",
            "Downloading turbo_design-1.0.8-py3-none-any.whl (48 kB)\n",
            "\u001b[2K   \u001b[90m━━━━━━━━━━━━━━━━━━━━━━━━━━━━━━━━━━━━━━━━\u001b[0m \u001b[32m48.4/48.4 kB\u001b[0m \u001b[31m1.3 MB/s\u001b[0m eta \u001b[36m0:00:00\u001b[0m\n",
            "\u001b[?25hDownloading Cantera-3.0.1-cp310-cp310-manylinux_2_17_x86_64.manylinux2014_x86_64.whl (5.9 MB)\n",
            "\u001b[2K   \u001b[90m━━━━━━━━━━━━━━━━━━━━━━━━━━━━━━━━━━━━━━━━\u001b[0m \u001b[32m5.9/5.9 MB\u001b[0m \u001b[31m12.5 MB/s\u001b[0m eta \u001b[36m0:00:00\u001b[0m\n",
            "\u001b[?25hDownloading findiff-0.10.0-py3-none-any.whl (33 kB)\n",
            "Downloading plot3d-1.6.7-py3-none-any.whl (37 kB)\n",
            "Downloading pyturbo_aero-1.1.0-py3-none-any.whl (1.5 MB)\n",
            "\u001b[2K   \u001b[90m━━━━━━━━━━━━━━━━━━━━━━━━━━━━━━━━━━━━━━━━\u001b[0m \u001b[32m1.5/1.5 MB\u001b[0m \u001b[31m10.5 MB/s\u001b[0m eta \u001b[36m0:00:00\u001b[0m\n",
            "\u001b[?25hDownloading ruamel.yaml-0.18.6-py3-none-any.whl (117 kB)\n",
            "\u001b[2K   \u001b[90m━━━━━━━━━━━━━━━━━━━━━━━━━━━━━━━━━━━━━━━━\u001b[0m \u001b[32m117.8/117.8 kB\u001b[0m \u001b[31m6.1 MB/s\u001b[0m eta \u001b[36m0:00:00\u001b[0m\n",
            "\u001b[?25hDownloading numpy_stl-3.1.2-py3-none-any.whl (20 kB)\n",
            "Downloading ruamel.yaml.clib-0.2.8-cp310-cp310-manylinux_2_17_x86_64.manylinux2014_x86_64.manylinux_2_24_x86_64.whl (526 kB)\n",
            "\u001b[2K   \u001b[90m━━━━━━━━━━━━━━━━━━━━━━━━━━━━━━━━━━━━━━━━\u001b[0m \u001b[32m526.7/526.7 kB\u001b[0m \u001b[31m8.7 MB/s\u001b[0m eta \u001b[36m0:00:00\u001b[0m\n",
            "\u001b[?25hInstalling collected packages: ruamel.yaml.clib, ruamel.yaml, numpy-stl, findiff, pyturbo-aero, plot3d, cantera, turbo-design\n",
            "Successfully installed cantera-3.0.1 findiff-0.10.0 numpy-stl-3.1.2 plot3d-1.6.7 pyturbo-aero-1.1.0 ruamel.yaml-0.18.6 ruamel.yaml.clib-0.2.8 turbo-design-1.0.8\n"
          ]
        }
      ],
      "source": [
        "# Installing the package\n",
        "!pip install turbo-design"
      ]
    },
    {
      "cell_type": "code",
      "execution_count": 2,
      "metadata": {
        "id": "nHzIUxdLx9PO"
      },
      "outputs": [],
      "source": [
        "from turbodesign import TurbineSpool, Inlet, RowType, BladeRow, Passage, Outlet, PassageType\n",
        "from turbodesign.enums import MassflowConstraint\n",
        "from turbodesign.coolant import Coolant\n",
        "import numpy as np\n",
        "from cantera import Solution"
      ]
    },
    {
      "cell_type": "code",
      "execution_count": 3,
      "metadata": {
        "id": "G5nL7ix-x9PO",
        "outputId": "56035574-de58-4d30-9f5f-b1972c91e38a",
        "colab": {
          "base_uri": "https://localhost:8080/"
        }
      },
      "outputs": [
        {
          "output_type": "stream",
          "name": "stdout",
          "text": [
            "Coefficient of Pressure [J/Kg] 1066.8767\n"
          ]
        }
      ],
      "source": [
        "#%% Define the Passage\n",
        "# Geometry from OptTurb\n",
        "rmean = 0.389 # meters\n",
        "H1 = 0.04 # meters\n",
        "H2 = 1.159*H1\n",
        "H3 = 1.317*H2\n",
        "cax = (H1+H2+H3)/3\n",
        "\n",
        "# Inlet, Stator Inlet, Stator Exit, Rotor Exit\n",
        "rhub = [rmean-H1/2,rmean-H1/2,rmean-H2/2,rmean-H3/2]\n",
        "rshroud = [rmean+H1/2,rmean+H1/2,rmean+H2/2,rmean+H3/2]\n",
        "xhub = np.array([-cax, 0.0, cax, 2*cax])\n",
        "xshroud = np.array([-cax, 0.0, cax, 2*cax])\n",
        "axial_len = xhub[-1]-xhub[0]\n",
        "\n",
        "passage = Passage(xhub,rhub,\n",
        "                 xshroud,rshroud,\n",
        "                 passageType=PassageType.Axial)\n",
        "\n",
        "#%% Design Conditions\n",
        "Design_RPM = 7500\n",
        "P0 = 500000     # Pascal\n",
        "T0 = 676.3      # Kelvin\n",
        "\n",
        "# Fluid\n",
        "fluid = Solution('air.yaml')\n",
        "fluid.TP = T0, P0 # Use pascal for cantera\n",
        "print(f\"Coefficient of Pressure [J/Kg] {fluid.cp:0.4f}\")\n",
        "\n",
        "#%% Defining the Inlet\n",
        "inlet = Inlet(M=0.2,\n",
        "                 P0=[P0],\n",
        "                 T0=[T0],\n",
        "                 beta=[0],\n",
        "                 fluid=fluid,\n",
        "                 percent_radii=0.5,\n",
        "                 axial_location=cax/axial_len)\n",
        "outlet = Outlet(P=P0/3.96,percent_radii=0.5,num_streamlines=3)\n",
        "\n",
        "stator1 = BladeRow(row_type=RowType.Stator,axial_location=2*cax/axial_len)\n",
        "rotor1 = BladeRow(row_type=RowType.Rotor,axial_location=3*cax/axial_len)\n",
        "\n",
        "stator1.axial_chord = cax # Set an axial chord. Used for plotting\n",
        "rotor1.axial_chord = cax\n",
        "\n",
        "# Coolant Definition: Use Kelvin and Pascal\n",
        "stator1.coolant = Coolant(fluid, T0=616*0.555556, P0= 50.6 * 6894.76, massflow_percentage=0)\n",
        "rotor1.coolant = Coolant(fluid, 622*0.555556, 50.3 * 6894.76,massflow_percentage=0)\n",
        "\n",
        "# Add in turning angles\n",
        "stator1.beta2_metal = [73,73,73] # Angle, hub,mean,tip\n",
        "rotor1.beta2_metal = [-67.6,-67.6,-67.6] # Angle, hub,mean,tip\n",
        "\n",
        "# Coolant: Use Kelvin and Pascal\n",
        "massflow = 35.9 # kg/s, guessed value"
      ]
    },
    {
      "cell_type": "markdown",
      "metadata": {
        "id": "DZvzQBXlx9PP"
      },
      "source": [
        "Turbine example contains many different loss models. Two types of models currently supported are enthalpy based and pressure loss based. Users can write their own loss models, see source code for more information."
      ]
    },
    {
      "cell_type": "code",
      "execution_count": 5,
      "metadata": {
        "id": "HpyuuCwpx9PP"
      },
      "outputs": [],
      "source": [
        "# Commented out because you need to generate a pickle file for other loss models.\n",
        "# To do that, go into craigcox folder and run `python build_dataset.py`\n",
        "# There is an auto download but depending on the python version, the pickle file downloaded may not read.\n",
        "\n",
        "# from turbodesign.loss.turbine import CraigCox, AinleyMathieson, FixedEfficiency, KrackerOkapuu, Traupel, TD2, FixedPressureLoss\n",
        "from turbodesign.loss.turbine import FixedPressureLoss\n",
        "stator1.loss_model = FixedPressureLoss(0.221)\n",
        "rotor1.loss_model = FixedPressureLoss(0.30)"
      ]
    },
    {
      "cell_type": "code",
      "execution_count": 6,
      "metadata": {
        "id": "BtwfuCeTx9PP"
      },
      "outputs": [],
      "source": [
        "# Define the spool\n",
        "spool = TurbineSpool(passage=passage,\n",
        "            rpm=Design_RPM,\n",
        "            num_streamlines=3,\n",
        "            massflow=massflow,\n",
        "            rows=[inlet,stator1,rotor1,outlet])\n",
        "spool.fluid = fluid\n",
        "spool.massflow_constraint = MassflowConstraint.BalanceMassFlow # Fixes the exit angle and changes degree of reaction\n"
      ]
    },
    {
      "cell_type": "code",
      "execution_count": null,
      "metadata": {
        "id": "HfWWMYV4x9PP",
        "outputId": "990baf87-c6bf-46cd-db59-08237eefd98d",
        "colab": {
          "base_uri": "https://localhost:8080/"
        }
      },
      "outputs": [
        {
          "output_type": "stream",
          "name": "stderr",
          "text": [
            "/usr/local/lib/python3.10/dist-packages/turbodesign/passage.py:116: RuntimeWarning: divide by zero encountered in divide\n",
            "  radius_curvature = np.divide(radius_curvature, np.abs(d2r_dx2))\n",
            "/usr/local/lib/python3.10/dist-packages/turbodesign/turbinespool.py:225: RuntimeWarning: Method 'bounded' does not support relative tolerance in x; defaulting to absolute tolerance.\n",
            "  res1 = minimize_scalar(fun=balance_massflows,args=(self.blade_rows[:-1],self.blade_rows[0].P0,self.blade_rows[-1].P),\n"
          ]
        },
        {
          "output_type": "stream",
          "name": "stdout",
          "text": [
            "0.3044582472000672\n"
          ]
        }
      ],
      "source": [
        "# spool.plot_geometry()\n",
        "spool.solve() # This also initializes streamlines\n",
        "spool.export_properties(\"optturb.json\")\n",
        "spool.plot()\n",
        "spool.plot_velocity_triangles()\n"
      ]
    }
  ],
  "metadata": {
    "language_info": {
      "name": "python"
    },
    "colab": {
      "provenance": []
    },
    "kernelspec": {
      "name": "python3",
      "display_name": "Python 3"
    }
  },
  "nbformat": 4,
  "nbformat_minor": 0
}